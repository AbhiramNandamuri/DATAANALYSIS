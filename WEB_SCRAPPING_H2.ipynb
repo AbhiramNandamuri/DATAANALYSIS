{
  "nbformat": 4,
  "nbformat_minor": 0,
  "metadata": {
    "colab": {
      "provenance": []
    },
    "kernelspec": {
      "name": "python3",
      "display_name": "Python 3"
    },
    "language_info": {
      "name": "python"
    }
  },
  "cells": [
    {
      "cell_type": "code",
      "execution_count": null,
      "metadata": {
        "colab": {
          "base_uri": "https://localhost:8080/"
        },
        "id": "wXY47XijO_IJ",
        "outputId": "b90754db-685a-4779-8993-dd53a8f70e81"
      },
      "outputs": [
        {
          "output_type": "stream",
          "name": "stdout",
          "text": [
            "Collecting pyspark\n",
            "  Downloading pyspark-3.5.1.tar.gz (317.0 MB)\n",
            "\u001b[2K     \u001b[90m━━━━━━━━━━━━━━━━━━━━━━━━━━━━━━━━━━━━━━━━\u001b[0m \u001b[32m317.0/317.0 MB\u001b[0m \u001b[31m2.8 MB/s\u001b[0m eta \u001b[36m0:00:00\u001b[0m\n",
            "\u001b[?25h  Preparing metadata (setup.py) ... \u001b[?25l\u001b[?25hdone\n",
            "Requirement already satisfied: py4j==0.10.9.7 in /usr/local/lib/python3.10/dist-packages (from pyspark) (0.10.9.7)\n",
            "Building wheels for collected packages: pyspark\n",
            "  Building wheel for pyspark (setup.py) ... \u001b[?25l\u001b[?25hdone\n",
            "  Created wheel for pyspark: filename=pyspark-3.5.1-py2.py3-none-any.whl size=317488493 sha256=6206c9df2604d06ab0b337c0ec53715942a721d5756ce3fb1de5dd1af1aa8860\n",
            "  Stored in directory: /root/.cache/pip/wheels/80/1d/60/2c256ed38dddce2fdd93be545214a63e02fbd8d74fb0b7f3a6\n",
            "Successfully built pyspark\n",
            "Installing collected packages: pyspark\n",
            "Successfully installed pyspark-3.5.1\n"
          ]
        }
      ],
      "source": [
        "!pip install pyspark"
      ]
    },
    {
      "cell_type": "code",
      "source": [
        "from bs4 import BeautifulSoup\n",
        "import requests"
      ],
      "metadata": {
        "id": "4h80_STpPNng"
      },
      "execution_count": null,
      "outputs": []
    },
    {
      "cell_type": "code",
      "source": [
        "url=\"https://www.careerpower.in/ipl-winners-list.html\""
      ],
      "metadata": {
        "id": "EAV424_tPRkB"
      },
      "execution_count": null,
      "outputs": []
    },
    {
      "cell_type": "code",
      "source": [
        "page=requests.get(url)"
      ],
      "metadata": {
        "id": "BKk5vDpNPdZX"
      },
      "execution_count": null,
      "outputs": []
    },
    {
      "cell_type": "code",
      "source": [
        "soup=BeautifulSoup(page.text,'html')\n",
        "print(soup)"
      ],
      "metadata": {
        "colab": {
          "base_uri": "https://localhost:8080/"
        },
        "id": "BkuoXUrQPgRX",
        "outputId": "71e3f856-736b-46bc-a2f4-89dc59d20362"
      },
      "execution_count": null,
      "outputs": [
        {
          "output_type": "stream",
          "name": "stdout",
          "text": [
            "<!DOCTYPE html>\n",
            "<html lang=\"en\">\n",
            "<head>\n",
            "<title>IPL Winners List from 2008 to 2023, Complete List</title>\n",
            "<meta charset=\"utf-8\"/>\n",
            "<meta content=\"width=device-width,initial-scale=1.0\" name=\"viewport\"/>\n",
            "<meta content=\"IPL winners list: Here we are discussing about the IPL winners list from 2008 to 2023 along with runner up and team wise IPL champions list.\" name=\"description\"/>\n",
            "<meta content=\"IPL Winners List\" name=\"keywords\"/>\n",
            "<meta content=\"#01579b\" name=\"theme-color\"/>\n",
            "<meta content=\"IPL Winners List from 2008 to 2023, Complete List\" property=\"og:title\"/>\n",
            "<meta content=\"IPL winners list: Here we are discussing about the IPL winners list from 2008 to 2023 along with runner up and team wise IPL champions list.\" property=\"og:description\"/>\n",
            "<meta content=\"https://www.careerpower.in/ipl-winners-list.html\" property=\"og:url\"/>\n",
            "<meta content=\"article\" property=\"og:type\"/>\n",
            "<link href=\"https://careerpower.in/css/stylenew.css\" media=\"all\" rel=\"stylesheet\"/>\n",
            "<link href=\"https://careerpower.in/css/menustyle.css\" media=\"all\" rel=\"stylesheet\" type=\"text/css\"/>\n",
            "<link href=\"https://careerpower.in/css/bootstrap.min.css\" media=\"all\" rel=\"stylesheet\"/>\n",
            "<link href=\"./images/favicon.png\" rel=\"icon\" type=\"image/png\"/>\n",
            "<link href=\"https://www.careerpower.in/ipl-winners-list.html\" rel=\"canonical\"/>\n",
            "<link href=\"https://fonts.googleapis.com/css?family=Open+Sans\" media=\"all\" rel=\"stylesheet\"/>\n",
            "<script src=\"/js/jquery.min.js\" type=\"text/javascript\"></script>\n",
            "<script async=\"\" src=\"/js/menujsscript.js\" type=\"text/javascript\"></script>\n",
            "<script>\n",
            "        // load Branch\n",
            "        (function (b, r, a, n, c, h, _, s, d, k) { if (!b[n] || !b[n]._q) { for (; s < _.length;)c(h, _[s++]); d = r.createElement(a); d.async = 1; d.src = \"https://cdn.branch.io/branch-latest.min.js\"; k = r.getElementsByTagName(a)[0]; k.parentNode.insertBefore(d, k); b[n] = h } })(window, document, \"script\", \"branch\", function (b, r) { b[r] = function () { b._q.push([r, arguments]) } }, { _q: [], _v: 1 }, \"addListener applyCode autoAppIndex banner closeBanner closeJourney creditHistory credits data deepview deepviewCta first getCode init link logout redeem referrals removeListener sendSMS setBranchViewData setIdentity track validateCode trackCommerceEvent logEvent disableTracking\".split(\" \"), 0);\n",
            "        // init Branch\n",
            "        branch.init('key_live_fkLSwoJqQGZF2sjVTTpjXokpqskUrLJG');\n",
            "      </script>\n",
            "<script>\n",
            "  window.dataLayer = window.dataLayer || [];\n",
            "  function gtag(){dataLayer.push(arguments);}\n",
            "  gtag('js', new Date());\n",
            "\n",
            "  gtag('config', 'UA-67555252-1');\n",
            "</script>\n",
            "<!-- Begin comScore Tag -->\n",
            "<script>\n",
            "  var _comscore = _comscore || [];\n",
            "  _comscore.push({ c1: \"2\", c2: \"33324577\" });\n",
            "  (function() {\n",
            "    var s = document.createElement(\"script\"), el = document.getElementsByTagName(\"script\")[0]; s.async = true;\n",
            "    s.src = (document.location.protocol == \"https:\" ? \"https://sb\" : \"http://b\") + \".scorecardresearch.com/beacon.js\";\n",
            "    el.parentNode.insertBefore(s, el);\n",
            "  })();\n",
            "</script>\n",
            "<noscript>\n",
            "<img src=\"https://sb.scorecardresearch.com/p?c1=2&amp;c2=33324577&amp;cv=2.0&amp;cj=1\"/>\n",
            "</noscript>\n",
            "<!-- End comScore Tag -->\n",
            "<!-- Google Tag Manager -->\n",
            "<script>(function(w,d,s,l,i){w[l]=w[l]||[];w[l].push({'gtm.start':\n",
            "new Date().getTime(),event:'gtm.js'});var f=d.getElementsByTagName(s)[0],\n",
            "j=d.createElement(s),dl=l!='dataLayer'?'&l='+l:'';j.async=true;j.src=\n",
            "'https://www.googletagmanager.com/gtm.js?id='+i+dl;f.parentNode.insertBefore(j,f);\n",
            "})(window,document,'script','dataLayer','GTM-TQZSWS6');</script>\n",
            "<style>\n",
            "  .hiddenmenu {\n",
            "\t\tdisplay: none!important;\n",
            "\t  }\n",
            "</style>\n",
            "<style>\n",
            "        #banner {\n",
            "          position: relative;\n",
            "        }\n",
            "        #middleMain p a, #middleMain h3 a, #middleMain h4 a {\n",
            "          background: #FC3A52;\n",
            "          border: 1px #FFFFFF;\n",
            "          box-sizing: border-box;\n",
            "          border-radius: 7px;\n",
            "          color: #fff;\n",
            "          font-size: 16px;\n",
            "          padding: 10px 15px;\n",
            "          text-decoration: none;\n",
            "          margin: 15px 0px;\n",
            "          display: inline-block;\n",
            "          text-decoration: none;\n",
            "          text-align: center;\n",
            "      }\n",
            "      .noStyle{\n",
            "        background: none !important;\n",
            "        color: #0D6EFD !important;\n",
            "        text-decoration: underline !important;\n",
            "        padding: 0px!important;\n",
            "      }\n",
            "        #middleMain figure.image img {max-width: 100%;}\n",
            "        .background-color {\n",
            "          word-break: break-word;\n",
            "        }\n",
            "      </style>\n",
            "</head>\n",
            "<body style=\"background-color:#fafafa;overflow-y: scroll;\">\n",
            "<!-- HEADER START -->\n",
            "<div id=\"headernew\"></div>\n",
            "<!-- END HEADER -->\n",
            "<!-- END HEADER -->\n",
            "<div class=\"top-links-outer\">\n",
            "<a href=\"https://bit.ly/2RAdmb2\" target=\"_blank\">\n",
            "<div class=\"top-fixed-link\">\n",
            "<div class=\"container-fluid\">\n",
            "<div class=\"wrapper-links\">\n",
            "<div class=\"left-side-links\">IBPS RRB Exam Preparation</div>\n",
            "<div class=\"right-side-links\"><span>Join for Free</span></div>\n",
            "</div>\n",
            "</div>\n",
            "</div>\n",
            "</a>\n",
            "</div>\n",
            "<div class=\"background-color\" id=\"\" style=\"width: 100%;\">\n",
            "<main class=\"top-gap p150\" id=\"main\">\n",
            "<section class=\"breadcrumb\">\n",
            "<div class=\"breadcrumb-wrapper\">\n",
            "<div class=\"inner-breadcrumb\">\n",
            "<div class=\"page-name-logo\"><img src=\"images/ibps.png\"/></div>\n",
            "<div class=\"page-title-outer\">\n",
            "<h1 class=\"title-name\">IPL Winners List from 2008 to 2023, Complete List</h1>\n",
            "<div class=\"bread-name\">\n",
            "<ul>\n",
            "<li><a href=\"https://www.careerpower.in/\">Home</a></li>\n",
            "<li class=\"current-page\">IPL Winners List</li>\n",
            "</ul>\n",
            "</div>\n",
            "</div>\n",
            "</div>\n",
            "</div>\n",
            "</section>\n",
            "<div class=\"select-menu-mob\">\n",
            "<div class=\"select-menu-wrap\">\n",
            "<!-- Example single danger button -->\n",
            "<div class=\"dropdownselect\">\n",
            "<button style=\"text-transform:capitalize\">Table of Contents</button>\n",
            "<label>\n",
            "<input type=\"checkbox\"/>\n",
            "<ul>\n",
            "<li>\n",
            "<a href=\"#SR1L3IIJNCEEJGUEP0SFWIO8C3LGX1CG\">IPL Winners List from 2008 to 2023</a>\n",
            "</li><li>\n",
            "<a href=\"#TU578UUX3VSGBDFWOL90F87E2M9N8WB6\">IPL Winners ListÂ </a>\n",
            "</li><li>\n",
            "<a href=\"#JKUBAW1WO2ARFNM0JSLSJ7BM1U4IGX64\">IPL 2023 Winner</a>\n",
            "</li><li>\n",
            "<a href=\"#OFLIHR23BSMQSCGM76PXINLDADMSK9H0\">IPL Winner, Captain, Player of the Series, Man of the Match in Final List</a>\n",
            "</li><li>\n",
            "<a href=\"#SGEJEVNNWQ9M3DPGVSCXLORAJ24HJXO9\">Most IPL Winner Teams</a>\n",
            "</li><li>\n",
            "<a href=\"#QNPJHIQK3KMY6Q1JQCE1RWRQG3DHMWN5\">IPL Winners List from 2008 to 2023</a>\n",
            "</li><li>\n",
            "<a href=\"#GJA0OS9U1R4Q3P9KNU31XIQQ65HHTI68\">IPL 2023 Winner: CSK</a>\n",
            "</li><li>\n",
            "<a href=\"#UHYG36CEJJSKPYAB8PTUJ1R5H4B29TGF\">IPL 2022 Winner: Gujarat TitansÂ </a>\n",
            "</li>\n",
            "</ul>\n",
            "</label>\n",
            "</div>\n",
            "</div>\n",
            "</div>\n",
            "<div class=\"inner-body-content\">\n",
            "<div class=\"leftside-menu\">\n",
            "<div class=\"panel-body\">\n",
            "<div>\n",
            "<p id=\"leftSidebarTitle\">Table of Contents</p>\n",
            "<ul>\n",
            "<li>\n",
            "<a href=\"#SR1L3IIJNCEEJGUEP0SFWIO8C3LGX1CG\">IPL Winners List from 2008 to 2023</a>\n",
            "</li><li>\n",
            "<a href=\"#TU578UUX3VSGBDFWOL90F87E2M9N8WB6\">IPL Winners ListÂ </a>\n",
            "</li><li>\n",
            "<a href=\"#JKUBAW1WO2ARFNM0JSLSJ7BM1U4IGX64\">IPL 2023 Winner</a>\n",
            "</li><li>\n",
            "<a href=\"#OFLIHR23BSMQSCGM76PXINLDADMSK9H0\">IPL Winner, Captain, Player of the Series, Man of the Match in Final List</a>\n",
            "</li><li>\n",
            "<a href=\"#SGEJEVNNWQ9M3DPGVSCXLORAJ24HJXO9\">Most IPL Winner Teams</a>\n",
            "</li><li>\n",
            "<a href=\"#QNPJHIQK3KMY6Q1JQCE1RWRQG3DHMWN5\">IPL Winners List from 2008 to 2023</a>\n",
            "</li><li>\n",
            "<a href=\"#GJA0OS9U1R4Q3P9KNU31XIQQ65HHTI68\">IPL 2023 Winner: CSK</a>\n",
            "</li><li>\n",
            "<a href=\"#UHYG36CEJJSKPYAB8PTUJ1R5H4B29TGF\">IPL 2022 Winner: Gujarat TitansÂ </a>\n",
            "</li>\n",
            "</ul>\n",
            "</div>\n",
            "<div class=\"showonlyweb\" id=\"left_bar\">\n",
            "</div>\n",
            "</div>\n",
            "</div>\n",
            "<div class=\"rightside-content\">\n",
            "<div id=\"pageTitle\" style=\"display:none;\">IPL Winners List from 2008 to 2023, Complete List</div>\n",
            "<div id=\"middleMain\">\n",
            "<p>TATA Indian Premier League organised by BCCI is the most popular Cricket League in the World. <strong> </strong>Here, we are providing the IPL winners list from 2008 to 2023. IPL started as an ambitious project 16 years ago and is now considered the best Twenty-20 cricket league in the world. The Indian Premier League began in 2008, a year after the Indian cricket team won the first edition of the World T-20 against Pakistan in a thrilling final. Chennai Super Kings (CSK) team is the most successful IPL team, having won the tournament five times along with Mumbai Indians (MI).</p><h2 id=\"SR1L3IIJNCEEJGUEP0SFWIO8C3LGX1CG\">IPL Winners List from 2008 to 2023</h2><p>Here, we present the list of IPL winners in the table which includes the winner, runner-up, venue, number of teams that participated, player of the match, and player of the series. <strong>Let's have a look at the table of IPL Winners List from 2008 to 2023</strong>.</p><figure class=\"table\"><table><thead><tr><th>Year</th><th>IPL Winner Team</th></tr></thead><tbody><tr><td>2008</td><td>Rajasthan Royals</td></tr><tr><td>2009</td><td>Deccan Chargers</td></tr><tr><td>2010</td><td>Chennai Super Kings</td></tr><tr><td>2011</td><td>Chennai Super Kings</td></tr><tr><td>2012</td><td>Kolkata Knight Riders</td></tr><tr><td>2013</td><td>Mumbai Indians</td></tr><tr><td>2014</td><td>Kolkata Knight Riders</td></tr><tr><td>2015</td><td>Mumbai Indians</td></tr><tr><td>2016</td><td>Sunrisers Hyderabad</td></tr><tr><td>2017</td><td>Mumbai Indians</td></tr><tr><td>2018</td><td>Chennai Super Kings</td></tr><tr><td>2019</td><td>Mumbai Indians</td></tr><tr><td>2020</td><td>Mumbai Indians</td></tr><tr><td>2021</td><td>Chennai Super Kings</td></tr><tr><td>2022</td><td>Gujarat Titans</td></tr><tr><td>2023</td><td>Chennai Super Kings</td></tr></tbody></table></figure><h2 id=\"TU578UUX3VSGBDFWOL90F87E2M9N8WB6\">IPL Winners List </h2><p><strong>This list will help you to increase your sports </strong><a class=\"noStyle\" href=\"https://www.careerpower.in/gk-general-knowledge.html\" target=\"_blank\"><strong>general knowledge</strong></a><strong>. The detailed analysis of the IPL Winner List, Runner Up, Venue, Number of teams, Player of the Match and Player of the Series are given below:</strong></p><figure class=\"table\"><table><tbody><tr><td><strong>Year</strong></td><td><strong>Winner</strong></td><td><strong>Runner Up</strong></td><td><strong>Final Match Venue</strong></td><td><strong>Teams</strong></td><td><strong>Player of the Series</strong></td></tr><tr><td>2023</td><td>Chennai Super Kings</td><td> Gujarat Titans</td><td> Ahmedabad</td><td>10</td><td> Shubman Gill</td></tr><tr><td>2022</td><td>Gujarat Titans</td><td>Rajasthan Royals </td><td>Ahmedabad</td><td>10</td><td>Jos Buttler</td></tr><tr><td>2021</td><td>Chennai Super Kings</td><td>Kolkata Knight Riders</td><td>Dubai</td><td>8</td><td>Harshal Patel</td></tr><tr><td>2020</td><td>Mumbai Indians</td><td>Delhi Capitals</td><td>Dubai</td><td>8</td><td>Jofra Archer</td></tr><tr><td>2019</td><td>Mumbai Indians</td><td>Chennai Super Kings</td><td>Hyderabad</td><td>8</td><td>Andre Russell</td></tr><tr><td>2018</td><td>Chennai Super Kings</td><td>Sunrisers Hyderabad</td><td>Mumbai</td><td>8</td><td>Sunil Narine</td></tr><tr><td>2017</td><td>Mumbai Indians</td><td>Rising Pune Supergiants</td><td>Hyderabad</td><td>8</td><td>Ben Stokes</td></tr><tr><td>2016</td><td>Sunrisers Hyderabad</td><td>Royal Challengers Bangalore</td><td>Bangalore</td><td>8</td><td>Virat Kohli</td></tr><tr><td>2015</td><td>Mumbai Indians</td><td>Chennai Super Kings</td><td>Kolkata</td><td>8</td><td>Andre Russell</td></tr><tr><td>2014</td><td>Kolkata Knight Riders</td><td>Kings XI Punjab</td><td>Bangalore</td><td>8</td><td>Glenn Maxwell</td></tr><tr><td>2013</td><td>Mumbai Indians</td><td>Chennai Super Kings</td><td>Kolkata</td><td>9</td><td>Shane Watson</td></tr><tr><td>2012</td><td>Kolkata Knight Riders</td><td>Chennai Super Kings</td><td>Chennai</td><td>9</td><td>Sunil Narine</td></tr><tr><td>2011</td><td>Chennai Super Kings</td><td>Royal Challengers Bangalore</td><td>Chennai</td><td>10</td><td>Chris Gayle</td></tr><tr><td>2010</td><td>Chennai Super Kings</td><td>Mumbai Indians</td><td>Mumbai</td><td>8</td><td>Sachin Tendulkar</td></tr><tr><td>2009</td><td>Deccan Chargers</td><td>Royal Challengers Bangalore</td><td>Johhanesburg</td><td>8</td><td>Adam Gilchrist</td></tr><tr><td>2008</td><td>Rajasthan Royals</td><td>Chennai Super Kings</td><td>Mumbai</td><td>8</td><td>Shane Watson</td></tr></tbody></table></figure><h2 id=\"JKUBAW1WO2ARFNM0JSLSJ7BM1U4IGX64\">IPL 2023 Winner</h2><p>Chennai Super Kings (CSK) became the IPL 2023 winner by defeating Gujrat Titans by 5 wickets. This is the 5th IPL title for CSK. Ravindra Jadeja smashes a six and a four off the last two balls as Chennai Super Kings defeat Gujarat Titans by five wickets to go level with Mumbai Indians with their fifth title triumph. Kiwi opener Devon Conway is the player of the match in the IPL 2023 Final. He gets an award of Rs 5 lakh along with a trophy, he top-scored for CSK with a 25-ball 47. This year, the prize money for was IPL winner is <strong>20 crores, and 13 crores</strong> for the runner-up. <strong>Gujrat Titans (GT)'s Shubman Gill (890) and Mohammed Shami (28)</strong> won the Orange and Purple Caps respectively. Some important awards of IPL 2023 are discussed below.</p><figure class=\"table\"><table><tbody><tr><td>Most Fours</td><td>Shubman Gill (GT)</td></tr><tr><td>Catch of the Season</td><td>Rashid Khan (GT)</td></tr><tr><td>Longest Six</td><td>Faf du Plessis (RCB)</td></tr><tr><td>Fairplay Award</td><td>Delhi Capitals</td></tr><tr><td>Best Ground</td><td>Kolkata's Eden Gardens</td></tr><tr><td>Best Pitch</td><td>Mumbai's Wankhede Stadium</td></tr><tr><td>Emerging Player of the Year</td><td>Yashasvi Jaiswal (RR)</td></tr><tr><td>Super Striker</td><td>Glenn Maxwell (RCB)</td></tr><tr><td>Most Valuable Player</td><td>Shubman Gill (GT)</td></tr></tbody></table></figure><h2 id=\"OFLIHR23BSMQSCGM76PXINLDADMSK9H0\">IPL Winner, Captain, Player of the Series, Man of the Match in Final List</h2><p><strong>Let's have a look at the IPL Winners List from 2008 to 2023 with Captain, Man of the Match in the final, and Player of the Series.</strong></p><figure class=\"table\"><table><thead><tr><th>Year</th><th>Winner</th><th>Captain</th><th>Player of the Series</th><th>Man of the Match</th></tr></thead><tbody><tr><td>2023</td><td>Chennai Super Kings</td><td>MS Dhoni</td><td>Shubman Gill</td><td> Devon Conway</td></tr><tr><td>2022</td><td>Gujrat Titans</td><td>Hardik Pandya</td><td>Jos Buttler</td><td>Hardik Pandya</td></tr><tr><td>2021</td><td>Chennai Super Kings</td><td>MS Dhoni</td><td>Harshal Patel</td><td>Faf du Plessis</td></tr><tr><td>2020</td><td>Mumbai Indians</td><td>Rohit Sharma</td><td>Jofra Archer</td><td>Trent Boult</td></tr><tr><td>2019</td><td>Mumbai Indians</td><td>Rohit Sharma</td><td>Andre Russell</td><td>Jasprit Bumrah</td></tr><tr><td>2018</td><td>Chennai Super Kings</td><td>MS Dhoni</td><td>Sunil Narine</td><td>Shane Watson</td></tr><tr><td>2017</td><td>Mumbai Indians</td><td>Rohit Sharma</td><td>Ben Stokes</td><td>Krunal Pandya</td></tr><tr><td>2016</td><td>Sunrisers Hyderabad</td><td>David Warner</td><td>Virat Kohli</td><td>Ben Cutting</td></tr><tr><td>2015</td><td>Mumbai Indians</td><td>Rohit Sharma</td><td>Andre Russell</td><td>Rohit Sharma</td></tr><tr><td>2014</td><td>Kolkata Knight Riders</td><td>Gautam Gambhir</td><td>Glenn Maxwell</td><td>Manish Pandey</td></tr><tr><td>2013</td><td>Mumbai Indians</td><td>Rohit Sharma</td><td>Shane Watson</td><td>Kieron Pollard</td></tr><tr><td>2012</td><td>Kolkata Knight Riders</td><td>Gautam Gambhir</td><td>Sunil Narine</td><td>Manvinder Bisla</td></tr><tr><td>2011</td><td>Chennai Super Kings</td><td>MS Dhoni</td><td>Chris Gayle</td><td>Murali Vijay</td></tr><tr><td>2010</td><td>Chennai Super Kings</td><td>MS Dhoni</td><td>Sachin Tendulkar</td><td>Suresh Raina</td></tr><tr><td>2009</td><td>Deccan Chargers</td><td>Adam Gilchrist</td><td>Adam Gilchrist</td><td>Anil Kumble</td></tr><tr><td>2008</td><td>Rajasthan Royals</td><td>Shane Warne</td><td>Shane Watson</td><td>Yusuf Pathan</td></tr></tbody></table></figure><p><strong>Note- Prepare for Govt. and Competitive Exam with Adda247 and Get 75% Off </strong><i><strong>Live Classes, Test Series, Video Courses, Books, and Other Study Materials, use Coupon Code CP75 and grab the best deals on Study Materials.</strong></i></p><p><a href=\"https://www.adda247.com/search?categoryFacets=TEST_SERIES,BOOKS,EBOOKS,VIDEOS,ONLINE_LIVE_CLASSES&amp;searchTerm=kvs&amp;primaryFilter=true&amp;\" target=\"_blank\"><strong>Get 75% Off on Live Classes &amp; Test Series [Coupon Code- CP75]</strong></a></p><h2 id=\"SGEJEVNNWQ9M3DPGVSCXLORAJ24HJXO9\">Most IPL Winner Teams</h2><p><strong>Mumbai Indians (MI) and Chennai Super Kings (CSK)</strong> both are the most successful IPL teams, having won the IPL tournament five times. Let's have a look at the most IPL winners list by the team.</p><figure class=\"table\"><table><tbody><tr><td><strong>IPL Winner Team</strong></td><td><strong>Times</strong></td><td><strong>Year</strong></td></tr><tr><td>Mumbai Indians</td><td>5 times</td><td>2013, 2015, 2017, 2019, 2020</td></tr><tr><td>Chennai Super Kings</td><td>5 times</td><td>2010, 2011, 2018, 2021, 2023</td></tr><tr><td>Kolkata Knight Riders</td><td>2 times</td><td>2012, 2014</td></tr><tr><td>Gujarat Titans</td><td>1 time</td><td>2022</td></tr><tr><td>Sunrisers Hyderabad</td><td>1 time</td><td>2016</td></tr><tr><td>Rajasthan Royals</td><td>1 time</td><td>2008</td></tr><tr><td>Deccan Chargers</td><td>1 time</td><td>2009</td></tr></tbody></table></figure><h2 id=\"QNPJHIQK3KMY6Q1JQCE1RWRQG3DHMWN5\">IPL Winners List from 2008 to 2023</h2><p>Here is the discussion on the year-wise IPL Winners List from 2008 to 2023.</p><h2 id=\"GJA0OS9U1R4Q3P9KNU31XIQQ65HHTI68\">IPL 2023 Winner: CSK</h2><p>The winner of TAT IPL 2023 has decided on 29th May 2023 when the two top teams of the tournament faced each other to clinch the title. IPL 2023 final match was played between Gujarat Titans (GT) vs Chennai Super Kings (CSK) at the Narendra Modi Stadium in Ahmedabad and Chennai Super Kings (CSK) won this match by 5 wickets. This Year, <strong>Bhubman Gill became the orange cap holder and player of the tournament, he scored 890 in 17 games</strong> and Mohammed Shami is the purple cap holder with 28 wickets.</p><h2 id=\"UHYG36CEJJSKPYAB8PTUJ1R5H4B29TGF\">IPL 2022 Winner: Gujarat Titans </h2><p><strong>Tata IPL 2022 final match was played between Gujarat Titans (GT) vs Rajasthan Royals (RR) and Gujarat Titans won the IPL 2022 final match by 7 wickets. </strong>Yuzvendra Chahal was the highest wicket-taker in Tata IPL 2022. Jos Buttler was the most run-scorer in TATA IPL 2022. He scored 863 runs in 17 matches including 4 hundred and 4 fifties. Jos Buttler has also won the Most valued played award this season. In IPL 2022<strong>,</strong> the teams for playoffs are Gujarat Titans, Lucknow Super Giants, Rajasthan Royals, and Royal Challengers Bangalore. Gujarat Titans (GT) captained by Hardik Pandya tops the IPL 2022 point table with 20 points and became the first team. They have played 14 matches and won 10 out of them, leading them to become the first team of 2022 to qualify for the playoffs. </p><h3>IPL 2021 Winner: Chennai Super Kings</h3><p><strong>Chennai Super Kings became the IPL 2021 Winner.</strong> The<strong> </strong>Final of IPL 2021 was played between Chennai Super Kings (CSK) and Kolkata Knight Riders (KKR) and CSK won the match by 27 runs. The final match was hosted in Dubai and <strong>CSK (192/3) beat KKR (165/9) by 27 runs. </strong>With their victory in IPL 2021, Chennai Super Kings lift their 4th IPL title. Harshal Patel from Royal Challengers Bangalore became the <strong>purple cap</strong> holder in this IPl with 32 wickets. Ruturaj Gaikwad has now become the youngest player to win the IPL orange cup.</p><h3>IPL 2020 Winner: Mumbai Indians</h3><p>This is the consecutive second time Mumbai Indians won the IPL title &amp; and overall 5th time. The final match was played between Mumbai Indians and Delhi Capitals. MI won this match by 5 wickets. MI also won Paytm Fairplay Award this year.</p><h3>IPL Winner 2019: Mumbai Indians</h3><p>The final of the IPL 2019 again saw the clash of the Titans. Mumbai Indians and Chennai Super Kings met again in the finals. The final went down to the last bowl. Shardul Thakur who was hoping for at least one run for the super over failed to counter Malingaâs off-cutter. Thus, Mumbai Indians became the champions for a record 4th time. With this, Mumbai Indians became the most successful team in IPL history and won the 4th IPL title.</p><h3>IPL Winner 2018: Chennai Super Kings</h3><p>Chennai Super Kings became the second team to win more than two trophies in IPL. Veterans Ambati Rayadu and Shane Watson were the backbones of the batting unit. Dhoni, as usual, provided the best finishes in most of the games. CSKâs bowling unit was lucky to get inputs from MS Dhoni, the captain and Dwanye Bravo, who led the bowling attack for CSK. </p><h3>IPL Winner 2017: Mumbai Indians</h3><p>Mumbai Indians became the 1st team in IPL history to win the title <strong>more than two times</strong>. The first win was in <strong>2013 and the second in 2015</strong>. The victory margin of Mumbai Indians against the Rising Pune Supergiants in the final was just one run. Rohit Sharma, as the captain of Mumbai Indians, was exceptional.</p><h3>IPL Winner 2016: Sunrisers Hyderabad</h3><p>The Sunrisers Hyderabad team managed to win the final against Royal Challengers Bangalore by just 8 runs. David Warner masterfully crafted the team journey through the season as a captain. But the season was more about the Virat Kohli - Ab de Villiers partnership in almost all the RCB matches. Virat scored 4 centuries and 7 half-centuries in 16 innings he played! There should be no doubt on who was the orange cap winner for the season.</p><h3>IPL Winner 2015: Mumbai Indians</h3><p>Mumbai Indians became the third team after CSK and KKR to win the title more than once. Again, the apt balancing of the Mumbai Indians helped them win the trophy. Simmons, Rohit Sharma, Ambati Rayadu and Kieron Pollard carried the batting unit. The bowling department was led by Slinga Malinga. Lasith Malinga took 24 wickets in the tournament but couldnât get the purple cap. Dwayne Bravo went ahead of him by scalping two extra wickets.</p><h3>IPL Winner 2014: Kolkata Knight Riders</h3><p>Kolkata Knight Riders become the second team to won the IPL trophy more than once. If Manvinder Bisla was the hero in the final of the 2012 edition, this time it was Manish Pandeyâs heroics that led KKR to chase a huge total of 199. Pandey scored a brilliant 94 from 50. Robin Uthappa from KKR won the orange cap for scoring 660 runs in 16 innings.</p><h3>IPL Winner 2013: Mumbai Indians</h3><p>The hitman, <strong>Rohit Sharma</strong> led <strong>Mumbai Indians</strong> to their first glory at the IPL. MI did so by defeating Chennai Super Kings in the final of 2013 IPL. The side was clinically well balanced throughout the tournament. The likes of Kieron Pollard, Lasith Malinga and Mitchell Johnson were a consistent part of the teamâs playing XI.</p><h3>IPL Winner 2012: Kolkata Knight Riders</h3><p><strong>Kolkata Knight Riders</strong> defeated the defending champions Chennai Super Kings in the final. With KKR batsman left with the daunting task of chasing 190 in the final, Bisla took the onus of chase on himself and replied with a swashbuckling inning of <strong>89 from 48 balls</strong>. CSKâs run feast led by Suresh Rainaâs 73 from 38 wasnât enough to stop the Knights from snatching the title from them.</p><h3>IPL Winner 2011: Chennai Super Kings</h3><p>Channai Super Kings become the first team of the IPL to win back-to-back finals in history. The defending champions held the title against the batting titans of the tournament RCB. CSKâs batting unit was lit up by the presence of Mr Cricket, Michael Hussey, who played some important innings throughout the tournament. Hussey and Murali Vijayâs 159 run opening partnership against the Royal Challengers Bangalore was the main reason for CSK defending the title.</p><h3>IPL Winner 2010: Chennai Super Kings</h3><p>MS Dhoni finally lifted the trophy after missing it in the inaugural edition. The likes of Suresh Raina, Mathew Hayden, Albie Morkel, Muralitharan and Dhoni himself were the strong contenders for the title right from the start of the tournament. Suresh Raina was absolutely brilliant with the bat throughout the tournament serving as the backbone of the teamâs batting line up. It was his knock of 57 not out from 35 that lit up CSKâs road to glory in its final against Sachin Tendulkar-led Mumbai Indians.</p><h3>IPL Winner 2009: Deccan Chargers</h3><p>The Chargers led by Adam Gilchrist won the second edition of the Indian Premier League. The team had some incredible hitters in them â Herschelle Gibbs, Andrew Symonds, young Rohit Sharma. Pragyan Ojha played a very crucial role in the teamâs journey with his left-arm spin bowling scalping 18 wickets in the tournament. Adam Gilchrist notched up a total of 495 runs in 16 matches and stood second in the overall list of highest run-scorers in the season behind Mathew Hayden.</p><h3>IPL Winner 2008: Rajasthan Royals</h3><p>Shane Warne led <strong>Rajasthan Royals</strong> to win the first edition of the Indian Premier League. A thoroughly well-balanced team with experienced batsmen like Shane Watson and Graeme Smith, an explosive batsman like Yusuf Pathan in the middle order, and a deceptive bowler like Sohail Tanvir were the backbone of the Rajasthan Royals in the first edition. But in the final against the <strong>Chennai Super Kings</strong>, Yusuf Pathan played the match of his life with contributions in both the bowling and the batting department. Yusuf first took 3 crucial wickets with a run rate of less than a bowl and scored a quickfire 56 from 39.</p><p><a href=\"https://www.careerpower.in/cricket-world-cup-winners-list.html\" target=\"_blank\"><strong>Check ODI Cricket World Cup Winners List</strong></a></p>\n",
            "<div id=\"incontent-top\"></div>\n",
            "</div>\n",
            "<section class=\"faqs\" id=\"faqs\">\n",
            "<div class=\"accordion\" id=\"accordionExample\"><div class=\"faq-heading\" id=\"faq\">IPL Winners List: FAQs</div>\n",
            "<div class=\"accordion-item\">\n",
            "<p class=\"accordion-header\" id=\"heading0\">\n",
            "<button aria-controls=\"collapse0\" aria-expanded=\"true\" class=\"accordion-button collapsed\" data-bs-target=\"#collapse0\" data-bs-toggle=\"collapse\" type=\"button\">\n",
            "              Q1. Which team won the maximum IPL titles?\n",
            "            </button>\n",
            "</p>\n",
            "<div aria-labelledby=\"heading0\" class=\"accordion-collapse collapse\" data-bs-parent=\"#accordionExample\" id=\"collapse0\">\n",
            "<div class=\"accordion-body\">\n",
            "              Ans. Mumbai Indians won the maximum titles of IPL (5 times).\n",
            "            </div>\n",
            "</div>\n",
            "</div>\n",
            "<div class=\"accordion-item\">\n",
            "<p class=\"accordion-header\" id=\"heading1\">\n",
            "<button aria-controls=\"collapse1\" aria-expanded=\"true\" class=\"accordion-button collapsed\" data-bs-target=\"#collapse1\" data-bs-toggle=\"collapse\" type=\"button\">\n",
            "              Q2. Who is the winner of IPL 2022?\n",
            "            </button>\n",
            "</p>\n",
            "<div aria-labelledby=\"heading1\" class=\"accordion-collapse collapse\" data-bs-parent=\"#accordionExample\" id=\"collapse1\">\n",
            "<div class=\"accordion-body\">\n",
            "              Ans. Gujarat Titans (GT) was the winner of TATA IPL 2022. Gujarat Titans (GT) beats Rajasthan Royals (RR) in the final match by 7 wickets.\n",
            "            </div>\n",
            "</div>\n",
            "</div>\n",
            "<div class=\"accordion-item\">\n",
            "<p class=\"accordion-header\" id=\"heading2\">\n",
            "<button aria-controls=\"collapse2\" aria-expanded=\"true\" class=\"accordion-button collapsed\" data-bs-target=\"#collapse2\" data-bs-toggle=\"collapse\" type=\"button\">\n",
            "              Q3. Who was the most run scorer in TATA IPL 2022?\n",
            "            </button>\n",
            "</p>\n",
            "<div aria-labelledby=\"heading2\" class=\"accordion-collapse collapse\" data-bs-parent=\"#accordionExample\" id=\"collapse2\">\n",
            "<div class=\"accordion-body\">\n",
            "              Ans. The opening batsman of Rajasthan Royal, Jos Buttler is the top run scorer in the TATA IPL 2022. He scored 863 runs in 17 matches including 4 hundreds and 4 fifties.\n",
            "            </div>\n",
            "</div>\n",
            "</div>\n",
            "<div class=\"accordion-item\">\n",
            "<p class=\"accordion-header\" id=\"heading3\">\n",
            "<button aria-controls=\"collapse3\" aria-expanded=\"true\" class=\"accordion-button collapsed\" data-bs-target=\"#collapse3\" data-bs-toggle=\"collapse\" type=\"button\">\n",
            "              Q4. Who is the highest wicket taker in IPL?\n",
            "            </button>\n",
            "</p>\n",
            "<div aria-labelledby=\"heading3\" class=\"accordion-collapse collapse\" data-bs-parent=\"#accordionExample\" id=\"collapse3\">\n",
            "<div class=\"accordion-body\">\n",
            "              Ans. Lasith Malinga from Mumbai Indians took the maximum number of wickets in the history of IPL with 170 wickets.\n",
            "            </div>\n",
            "</div>\n",
            "</div>\n",
            "<div class=\"accordion-item\">\n",
            "<p class=\"accordion-header\" id=\"heading4\">\n",
            "<button aria-controls=\"collapse4\" aria-expanded=\"true\" class=\"accordion-button collapsed\" data-bs-target=\"#collapse4\" data-bs-toggle=\"collapse\" type=\"button\">\n",
            "              Q5. Name the player who hitted the most sixes in IPL history?\n",
            "            </button>\n",
            "</p>\n",
            "<div aria-labelledby=\"heading4\" class=\"accordion-collapse collapse\" data-bs-parent=\"#accordionExample\" id=\"collapse4\">\n",
            "<div class=\"accordion-body\">\n",
            "              Ans. Chris Gayle leads the chart of the highest number of sixes in IPL with 349 sixes.\n",
            "            </div>\n",
            "</div>\n",
            "</div>\n",
            "<div class=\"accordion-item\">\n",
            "<p class=\"accordion-header\" id=\"heading5\">\n",
            "<button aria-controls=\"collapse5\" aria-expanded=\"true\" class=\"accordion-button collapsed\" data-bs-target=\"#collapse5\" data-bs-toggle=\"collapse\" type=\"button\">\n",
            "              Q6. Who is the best captain in IPL?\n",
            "            </button>\n",
            "</p>\n",
            "<div aria-labelledby=\"heading5\" class=\"accordion-collapse collapse\" data-bs-parent=\"#accordionExample\" id=\"collapse5\">\n",
            "<div class=\"accordion-body\">\n",
            "              Ans. Mumbai Indians's Rohit Sharma is the best and most successful captain in IPL and has 5 titles.\n",
            "            </div>\n",
            "</div>\n",
            "</div>\n",
            "<div class=\"accordion-item\">\n",
            "<p class=\"accordion-header\" id=\"heading6\">\n",
            "<button aria-controls=\"collapse6\" aria-expanded=\"true\" class=\"accordion-button collapsed\" data-bs-target=\"#collapse6\" data-bs-toggle=\"collapse\" type=\"button\">\n",
            "              Q7. Who is the IPL 2023 winner?\n",
            "            </button>\n",
            "</p>\n",
            "<div aria-labelledby=\"heading6\" class=\"accordion-collapse collapse\" data-bs-parent=\"#accordionExample\" id=\"collapse6\">\n",
            "<div class=\"accordion-body\">\n",
            "              Ans. Chennai Super Kings (CSK) became the IPL 2023 winner. Chennai Super Kings (CSK) beats Gujarat Titans (GT) in the final match by 7 wickets.\n",
            "            </div>\n",
            "</div>\n",
            "</div>\n",
            "<div class=\"accordion-item\">\n",
            "<p class=\"accordion-header\" id=\"heading7\">\n",
            "<button aria-controls=\"collapse7\" aria-expanded=\"true\" class=\"accordion-button collapsed\" data-bs-target=\"#collapse7\" data-bs-toggle=\"collapse\" type=\"button\">\n",
            "              Q8. Which team is maximum time runner up in IPL?\n",
            "            </button>\n",
            "</p>\n",
            "<div aria-labelledby=\"heading7\" class=\"accordion-collapse collapse\" data-bs-parent=\"#accordionExample\" id=\"collapse7\">\n",
            "<div class=\"accordion-body\">\n",
            "              Ans. Chennai Super Kings is the 5 time runner up in IPL.\n",
            "            </div>\n",
            "</div>\n",
            "</div>\n",
            "<div class=\"accordion-item\">\n",
            "<p class=\"accordion-header\" id=\"heading8\">\n",
            "<button aria-controls=\"collapse8\" aria-expanded=\"true\" class=\"accordion-button collapsed\" data-bs-target=\"#collapse8\" data-bs-toggle=\"collapse\" type=\"button\">\n",
            "              Q9. How many times MI won IPL title?\n",
            "            </button>\n",
            "</p>\n",
            "<div aria-labelledby=\"heading8\" class=\"accordion-collapse collapse\" data-bs-parent=\"#accordionExample\" id=\"collapse8\">\n",
            "<div class=\"accordion-body\">\n",
            "              Ans. Mumbai Indians is the most successful team in IPL history, having won five times along with Chennai Super Kings.\n",
            "            </div>\n",
            "</div>\n",
            "</div>\n",
            "<div class=\"accordion-item\">\n",
            "<p class=\"accordion-header\" id=\"heading9\">\n",
            "<button aria-controls=\"collapse9\" aria-expanded=\"true\" class=\"accordion-button collapsed\" data-bs-target=\"#collapse9\" data-bs-toggle=\"collapse\" type=\"button\">\n",
            "              Q10. Which player won most IPL titles?\n",
            "            </button>\n",
            "</p>\n",
            "<div aria-labelledby=\"heading9\" class=\"accordion-collapse collapse\" data-bs-parent=\"#accordionExample\" id=\"collapse9\">\n",
            "<div class=\"accordion-body\">\n",
            "              Ans. Rohit Sharma has won the IPL titles 6 times. He has won it 5 times for Mumbai Indians and one time for the Deccan Chargers.\n",
            "            </div>\n",
            "</div>\n",
            "</div></div></section>\n",
            "<div class=\"quick-box mwebshow\">\n",
            "<h4>Important Links</h4>\n",
            "<div id=\"left_Mid_bar\">\n",
            "</div>\n",
            "</div>\n",
            "</div>\n",
            "</div>\n",
            "</main></div>\n",
            "<!-- center card end -->\n",
            "<div id=\"footernew\"></div>\n",
            "<!-- end -->\n",
            "<!-- app mobile popup end -->\n",
            "<script type=\"text/javascript\">\n",
            "        $(\"#headernew\").load(\"headernew.html\");        \n",
            "        $(\"#footernew\").load(\"footernew.html\");\n",
            "        $(\"#left_Mid_bar\").load(\"ads-adsense-leftside.html\");\n",
            "        $(\"#adsdiv1\").load(\"ads-adsense.html\");\n",
            "        $(\"#adsdiv3\").load(\"ads-adsense-other.html\");\n",
            "        $(\"#incontent-top\").load(\"incontent-top.html\");\n",
            "        $(\"#incontent-middle\").load(\"incontent-middle.html\");\n",
            "        $(window).scroll(function () {\n",
            "          var top = $(window).scrollTop();\n",
            "          var bottom = $(window).scrollTop() + $(window).height();\n",
            "          if (top >= 500 && top < 11100) {\n",
            "            $(\".right\").addClass(\"right-div\");\n",
            "            $(\".left\").addClass(\"left-div\");\n",
            "            $(\"#banner\").css(\"display\", \"none\");\n",
            "            $(\".middle\").addClass(\"middle-div\");\n",
            "          } else {\n",
            "            $(\".right\").addClass(\"right-div\");\n",
            "            $(\".left\").addClass(\"left-div\");\n",
            "            $(\".middle\").addClass(\"middle-div\");\n",
            "          }\n",
            "        });\n",
            "        document.querySelectorAll('a[href^=\"#\"]').forEach(anchor => {\n",
            "          anchor.addEventListener('click', function (e) {\n",
            "              e.preventDefault();      \n",
            "              $('html,body').animate({scrollTop:$(this.hash).offset().top-150}, 700);\n",
            "          });\n",
            "      });\n",
            "</script>\n",
            "<script type=\"application/ld+json\">\n",
            "      {\"@context\":\"https://schema.org\",\"@type\":\"FAQPage\",\"mainEntity\":[{\"@type\":\"Question\",\"name\":\"Q1. Which team won the maximum IPL titles?\",\"acceptedAnswer\":{\"@type\":\"Answer\",\"text\":\"Ans. Mumbai Indians won the maximum titles of IPL (5 times).\"}},{\"@type\":\"Question\",\"name\":\"Q2. Who is the winner of IPL 2022?\",\"acceptedAnswer\":{\"@type\":\"Answer\",\"text\":\"Ans. Gujarat Titans (GT) was the winner of TATA IPL 2022. Gujarat Titans (GT) beats Rajasthan Royals (RR) in the final match by 7 wickets.\"}},{\"@type\":\"Question\",\"name\":\"Q3. Who was the most run scorer in TATA IPL 2022?\",\"acceptedAnswer\":{\"@type\":\"Answer\",\"text\":\"Ans. The opening batsman of Rajasthan Royal, Jos Buttler is the top run scorer in the TATA IPL 2022. He scored 863 runs in 17 matches including 4 hundreds and 4 fifties.\"}},{\"@type\":\"Question\",\"name\":\"Q4. Who is the highest wicket taker in IPL?\",\"acceptedAnswer\":{\"@type\":\"Answer\",\"text\":\"Ans. Lasith Malinga from Mumbai Indians took the maximum number of wickets in the history of IPL with 170 wickets.\"}},{\"@type\":\"Question\",\"name\":\"Q5. Name the player who hitted the most sixes in IPL history?\",\"acceptedAnswer\":{\"@type\":\"Answer\",\"text\":\"Ans. Chris Gayle leads the chart of the highest number of sixes in IPL with 349 sixes.\"}},{\"@type\":\"Question\",\"name\":\"Q6. Who is the best captain in IPL?\",\"acceptedAnswer\":{\"@type\":\"Answer\",\"text\":\"Ans. Mumbai Indians's Rohit Sharma is the best and most successful captain in IPL and has 5 titles.\"}},{\"@type\":\"Question\",\"name\":\"Q7. Who is the IPL 2023 winner?\",\"acceptedAnswer\":{\"@type\":\"Answer\",\"text\":\"Ans. Chennai Super Kings (CSK) became the IPL 2023 winner. Chennai Super Kings (CSK) beats Gujarat Titans (GT) in the final match by 7 wickets.\"}},{\"@type\":\"Question\",\"name\":\"Q8. Which team is maximum time runner up in IPL?\",\"acceptedAnswer\":{\"@type\":\"Answer\",\"text\":\"Ans. Chennai Super Kings is the 5 time runner up in IPL.\"}},{\"@type\":\"Question\",\"name\":\"Q9. How many times MI won IPL title?\",\"acceptedAnswer\":{\"@type\":\"Answer\",\"text\":\"Ans. Mumbai Indians is the most successful team in IPL history, having won five times along with Chennai Super Kings.\"}},{\"@type\":\"Question\",\"name\":\"Q10. Which player won most IPL titles?\",\"acceptedAnswer\":{\"@type\":\"Answer\",\"text\":\"Ans. Rohit Sharma has won the IPL titles 6 times. He has won it 5 times for Mumbai Indians and one time for the Deccan Chargers.\"}}]}\n",
            "      </script>\n",
            "</body>\n",
            "</html>\n"
          ]
        }
      ]
    },
    {
      "cell_type": "code",
      "source": [
        "title=soup.find('title')\n",
        "print(title)"
      ],
      "metadata": {
        "colab": {
          "base_uri": "https://localhost:8080/"
        },
        "id": "PaHpZOR7PlOM",
        "outputId": "103e01b0-5dad-433c-aba1-6b5872f6c42c"
      },
      "execution_count": null,
      "outputs": [
        {
          "output_type": "stream",
          "name": "stdout",
          "text": [
            "<title>IPL Winners List from 2008 to 2023, Complete List</title>\n"
          ]
        }
      ]
    },
    {
      "cell_type": "code",
      "source": [
        "print(title.text)"
      ],
      "metadata": {
        "colab": {
          "base_uri": "https://localhost:8080/"
        },
        "id": "8n8SNJSnPpv0",
        "outputId": "4ffff08f-2fa1-4734-d574-a1a2ae4cf010"
      },
      "execution_count": null,
      "outputs": [
        {
          "output_type": "stream",
          "name": "stdout",
          "text": [
            "IPL Winners List from 2008 to 2023, Complete List\n"
          ]
        }
      ]
    },
    {
      "cell_type": "code",
      "source": [
        "table = soup.find('table')\n",
        "print(table)"
      ],
      "metadata": {
        "colab": {
          "base_uri": "https://localhost:8080/"
        },
        "id": "i8vSoUMdPtvd",
        "outputId": "a83cce69-ccaf-4970-c7ae-75501b3fdf7b"
      },
      "execution_count": null,
      "outputs": [
        {
          "output_type": "stream",
          "name": "stdout",
          "text": [
            "<table><thead><tr><th>Year</th><th>IPL Winner Team</th></tr></thead><tbody><tr><td>2008</td><td>Rajasthan Royals</td></tr><tr><td>2009</td><td>Deccan Chargers</td></tr><tr><td>2010</td><td>Chennai Super Kings</td></tr><tr><td>2011</td><td>Chennai Super Kings</td></tr><tr><td>2012</td><td>Kolkata Knight Riders</td></tr><tr><td>2013</td><td>Mumbai Indians</td></tr><tr><td>2014</td><td>Kolkata Knight Riders</td></tr><tr><td>2015</td><td>Mumbai Indians</td></tr><tr><td>2016</td><td>Sunrisers Hyderabad</td></tr><tr><td>2017</td><td>Mumbai Indians</td></tr><tr><td>2018</td><td>Chennai Super Kings</td></tr><tr><td>2019</td><td>Mumbai Indians</td></tr><tr><td>2020</td><td>Mumbai Indians</td></tr><tr><td>2021</td><td>Chennai Super Kings</td></tr><tr><td>2022</td><td>Gujarat Titans</td></tr><tr><td>2023</td><td>Chennai Super Kings</td></tr></tbody></table>\n"
          ]
        }
      ]
    },
    {
      "cell_type": "code",
      "source": [
        "Headings = table.find_all('th')\n",
        "print(Headings)"
      ],
      "metadata": {
        "colab": {
          "base_uri": "https://localhost:8080/"
        },
        "id": "E8yl8bMniZR7",
        "outputId": "45105105-d438-4d2b-dc37-30a33801bc26"
      },
      "execution_count": null,
      "outputs": [
        {
          "output_type": "stream",
          "name": "stdout",
          "text": [
            "[<th>Year</th>, <th>IPL Winner Team</th>]\n"
          ]
        }
      ]
    },
    {
      "cell_type": "code",
      "source": [
        "Header = [i.text for i in Headings]\n",
        "print(Header)"
      ],
      "metadata": {
        "colab": {
          "base_uri": "https://localhost:8080/"
        },
        "id": "vwyGMt9riekR",
        "outputId": "08030e03-0aff-40d6-de78-0061dc9f95a3"
      },
      "execution_count": null,
      "outputs": [
        {
          "output_type": "stream",
          "name": "stdout",
          "text": [
            "['Year', 'IPL Winner Team']\n"
          ]
        }
      ]
    },
    {
      "cell_type": "code",
      "source": [
        "import pandas as pd\n",
        "df = pd.DataFrame(columns = Header)\n",
        "df"
      ],
      "metadata": {
        "colab": {
          "base_uri": "https://localhost:8080/",
          "height": 89
        },
        "id": "63jrqk67jPef",
        "outputId": "b8a944fa-9d75-4ae5-a764-861c0faf67bf"
      },
      "execution_count": null,
      "outputs": [
        {
          "output_type": "execute_result",
          "data": {
            "text/plain": [
              "Empty DataFrame\n",
              "Columns: [Year, IPL Winner Team]\n",
              "Index: []"
            ],
            "text/html": [
              "\n",
              "  <div id=\"df-408f34ea-1784-4743-ab52-b4f06982075d\" class=\"colab-df-container\">\n",
              "    <div>\n",
              "<style scoped>\n",
              "    .dataframe tbody tr th:only-of-type {\n",
              "        vertical-align: middle;\n",
              "    }\n",
              "\n",
              "    .dataframe tbody tr th {\n",
              "        vertical-align: top;\n",
              "    }\n",
              "\n",
              "    .dataframe thead th {\n",
              "        text-align: right;\n",
              "    }\n",
              "</style>\n",
              "<table border=\"1\" class=\"dataframe\">\n",
              "  <thead>\n",
              "    <tr style=\"text-align: right;\">\n",
              "      <th></th>\n",
              "      <th>Year</th>\n",
              "      <th>IPL Winner Team</th>\n",
              "    </tr>\n",
              "  </thead>\n",
              "  <tbody>\n",
              "  </tbody>\n",
              "</table>\n",
              "</div>\n",
              "    <div class=\"colab-df-buttons\">\n",
              "\n",
              "  <div class=\"colab-df-container\">\n",
              "    <button class=\"colab-df-convert\" onclick=\"convertToInteractive('df-408f34ea-1784-4743-ab52-b4f06982075d')\"\n",
              "            title=\"Convert this dataframe to an interactive table.\"\n",
              "            style=\"display:none;\">\n",
              "\n",
              "  <svg xmlns=\"http://www.w3.org/2000/svg\" height=\"24px\" viewBox=\"0 -960 960 960\">\n",
              "    <path d=\"M120-120v-720h720v720H120Zm60-500h600v-160H180v160Zm220 220h160v-160H400v160Zm0 220h160v-160H400v160ZM180-400h160v-160H180v160Zm440 0h160v-160H620v160ZM180-180h160v-160H180v160Zm440 0h160v-160H620v160Z\"/>\n",
              "  </svg>\n",
              "    </button>\n",
              "\n",
              "  <style>\n",
              "    .colab-df-container {\n",
              "      display:flex;\n",
              "      gap: 12px;\n",
              "    }\n",
              "\n",
              "    .colab-df-convert {\n",
              "      background-color: #E8F0FE;\n",
              "      border: none;\n",
              "      border-radius: 50%;\n",
              "      cursor: pointer;\n",
              "      display: none;\n",
              "      fill: #1967D2;\n",
              "      height: 32px;\n",
              "      padding: 0 0 0 0;\n",
              "      width: 32px;\n",
              "    }\n",
              "\n",
              "    .colab-df-convert:hover {\n",
              "      background-color: #E2EBFA;\n",
              "      box-shadow: 0px 1px 2px rgba(60, 64, 67, 0.3), 0px 1px 3px 1px rgba(60, 64, 67, 0.15);\n",
              "      fill: #174EA6;\n",
              "    }\n",
              "\n",
              "    .colab-df-buttons div {\n",
              "      margin-bottom: 4px;\n",
              "    }\n",
              "\n",
              "    [theme=dark] .colab-df-convert {\n",
              "      background-color: #3B4455;\n",
              "      fill: #D2E3FC;\n",
              "    }\n",
              "\n",
              "    [theme=dark] .colab-df-convert:hover {\n",
              "      background-color: #434B5C;\n",
              "      box-shadow: 0px 1px 3px 1px rgba(0, 0, 0, 0.15);\n",
              "      filter: drop-shadow(0px 1px 2px rgba(0, 0, 0, 0.3));\n",
              "      fill: #FFFFFF;\n",
              "    }\n",
              "  </style>\n",
              "\n",
              "    <script>\n",
              "      const buttonEl =\n",
              "        document.querySelector('#df-408f34ea-1784-4743-ab52-b4f06982075d button.colab-df-convert');\n",
              "      buttonEl.style.display =\n",
              "        google.colab.kernel.accessAllowed ? 'block' : 'none';\n",
              "\n",
              "      async function convertToInteractive(key) {\n",
              "        const element = document.querySelector('#df-408f34ea-1784-4743-ab52-b4f06982075d');\n",
              "        const dataTable =\n",
              "          await google.colab.kernel.invokeFunction('convertToInteractive',\n",
              "                                                    [key], {});\n",
              "        if (!dataTable) return;\n",
              "\n",
              "        const docLinkHtml = 'Like what you see? Visit the ' +\n",
              "          '<a target=\"_blank\" href=https://colab.research.google.com/notebooks/data_table.ipynb>data table notebook</a>'\n",
              "          + ' to learn more about interactive tables.';\n",
              "        element.innerHTML = '';\n",
              "        dataTable['output_type'] = 'display_data';\n",
              "        await google.colab.output.renderOutput(dataTable, element);\n",
              "        const docLink = document.createElement('div');\n",
              "        docLink.innerHTML = docLinkHtml;\n",
              "        element.appendChild(docLink);\n",
              "      }\n",
              "    </script>\n",
              "  </div>\n",
              "\n",
              "\n",
              "  <div id=\"id_97c7553b-6ae0-46ef-95fc-b9d0eee34d33\">\n",
              "    <style>\n",
              "      .colab-df-generate {\n",
              "        background-color: #E8F0FE;\n",
              "        border: none;\n",
              "        border-radius: 50%;\n",
              "        cursor: pointer;\n",
              "        display: none;\n",
              "        fill: #1967D2;\n",
              "        height: 32px;\n",
              "        padding: 0 0 0 0;\n",
              "        width: 32px;\n",
              "      }\n",
              "\n",
              "      .colab-df-generate:hover {\n",
              "        background-color: #E2EBFA;\n",
              "        box-shadow: 0px 1px 2px rgba(60, 64, 67, 0.3), 0px 1px 3px 1px rgba(60, 64, 67, 0.15);\n",
              "        fill: #174EA6;\n",
              "      }\n",
              "\n",
              "      [theme=dark] .colab-df-generate {\n",
              "        background-color: #3B4455;\n",
              "        fill: #D2E3FC;\n",
              "      }\n",
              "\n",
              "      [theme=dark] .colab-df-generate:hover {\n",
              "        background-color: #434B5C;\n",
              "        box-shadow: 0px 1px 3px 1px rgba(0, 0, 0, 0.15);\n",
              "        filter: drop-shadow(0px 1px 2px rgba(0, 0, 0, 0.3));\n",
              "        fill: #FFFFFF;\n",
              "      }\n",
              "    </style>\n",
              "    <button class=\"colab-df-generate\" onclick=\"generateWithVariable('df')\"\n",
              "            title=\"Generate code using this dataframe.\"\n",
              "            style=\"display:none;\">\n",
              "\n",
              "  <svg xmlns=\"http://www.w3.org/2000/svg\" height=\"24px\"viewBox=\"0 0 24 24\"\n",
              "       width=\"24px\">\n",
              "    <path d=\"M7,19H8.4L18.45,9,17,7.55,7,17.6ZM5,21V16.75L18.45,3.32a2,2,0,0,1,2.83,0l1.4,1.43a1.91,1.91,0,0,1,.58,1.4,1.91,1.91,0,0,1-.58,1.4L9.25,21ZM18.45,9,17,7.55Zm-12,3A5.31,5.31,0,0,0,4.9,8.1,5.31,5.31,0,0,0,1,6.5,5.31,5.31,0,0,0,4.9,4.9,5.31,5.31,0,0,0,6.5,1,5.31,5.31,0,0,0,8.1,4.9,5.31,5.31,0,0,0,12,6.5,5.46,5.46,0,0,0,6.5,12Z\"/>\n",
              "  </svg>\n",
              "    </button>\n",
              "    <script>\n",
              "      (() => {\n",
              "      const buttonEl =\n",
              "        document.querySelector('#id_97c7553b-6ae0-46ef-95fc-b9d0eee34d33 button.colab-df-generate');\n",
              "      buttonEl.style.display =\n",
              "        google.colab.kernel.accessAllowed ? 'block' : 'none';\n",
              "\n",
              "      buttonEl.onclick = () => {\n",
              "        google.colab.notebook.generateWithVariable('df');\n",
              "      }\n",
              "      })();\n",
              "    </script>\n",
              "  </div>\n",
              "\n",
              "    </div>\n",
              "  </div>\n"
            ],
            "application/vnd.google.colaboratory.intrinsic+json": {
              "type": "dataframe",
              "variable_name": "df",
              "repr_error": "'str' object has no attribute 'empty'"
            }
          },
          "metadata": {},
          "execution_count": 13
        }
      ]
    },
    {
      "cell_type": "code",
      "source": [
        "rows = table.find_all('tr')\n",
        "print(rows)\n",
        "print(df.columns)"
      ],
      "metadata": {
        "colab": {
          "base_uri": "https://localhost:8080/"
        },
        "id": "IbNDqs95jQCM",
        "outputId": "5cc1f3ba-5529-4350-f4e4-86179cbdf70a"
      },
      "execution_count": null,
      "outputs": [
        {
          "output_type": "stream",
          "name": "stdout",
          "text": [
            "[<tr><th>Year</th><th>IPL Winner Team</th></tr>, <tr><td>2008</td><td>Rajasthan Royals</td></tr>, <tr><td>2009</td><td>Deccan Chargers</td></tr>, <tr><td>2010</td><td>Chennai Super Kings</td></tr>, <tr><td>2011</td><td>Chennai Super Kings</td></tr>, <tr><td>2012</td><td>Kolkata Knight Riders</td></tr>, <tr><td>2013</td><td>Mumbai Indians</td></tr>, <tr><td>2014</td><td>Kolkata Knight Riders</td></tr>, <tr><td>2015</td><td>Mumbai Indians</td></tr>, <tr><td>2016</td><td>Sunrisers Hyderabad</td></tr>, <tr><td>2017</td><td>Mumbai Indians</td></tr>, <tr><td>2018</td><td>Chennai Super Kings</td></tr>, <tr><td>2019</td><td>Mumbai Indians</td></tr>, <tr><td>2020</td><td>Mumbai Indians</td></tr>, <tr><td>2021</td><td>Chennai Super Kings</td></tr>, <tr><td>2022</td><td>Gujarat Titans</td></tr>, <tr><td>2023</td><td>Chennai Super Kings</td></tr>]\n",
            "Index(['Year', 'IPL Winner Team'], dtype='object')\n"
          ]
        }
      ]
    },
    {
      "cell_type": "code",
      "source": [
        "ind=1\n",
        "for i in rows[1:17]:\n",
        "  row_data = i.find_all('td')\n",
        "  every_row_data = [i.text for i in row_data]\n",
        "  print(every_row_data)\n",
        "  df.loc[ind] = every_row_data\n",
        "  ind = ind+1"
      ],
      "metadata": {
        "colab": {
          "base_uri": "https://localhost:8080/"
        },
        "id": "HfyskgmJjUoz",
        "outputId": "8af93f4b-d586-4110-8906-fcb3ad695423"
      },
      "execution_count": null,
      "outputs": [
        {
          "output_type": "stream",
          "name": "stdout",
          "text": [
            "['2008', 'Rajasthan Royals']\n",
            "['2009', 'Deccan Chargers']\n",
            "['2010', 'Chennai Super Kings']\n",
            "['2011', 'Chennai Super Kings']\n",
            "['2012', 'Kolkata Knight Riders']\n",
            "['2013', 'Mumbai Indians']\n",
            "['2014', 'Kolkata Knight Riders']\n",
            "['2015', 'Mumbai Indians']\n",
            "['2016', 'Sunrisers Hyderabad']\n",
            "['2017', 'Mumbai Indians']\n",
            "['2018', 'Chennai Super Kings']\n",
            "['2019', 'Mumbai Indians']\n",
            "['2020', 'Mumbai Indians']\n",
            "['2021', 'Chennai Super Kings']\n",
            "['2022', 'Gujarat Titans']\n",
            "['2023', 'Chennai Super Kings']\n"
          ]
        }
      ]
    },
    {
      "cell_type": "code",
      "source": [
        "df\n",
        "df.to_csv(\"list of ipl winners.csv\")"
      ],
      "metadata": {
        "id": "dnwldIo5je4j"
      },
      "execution_count": null,
      "outputs": []
    }
  ]
}